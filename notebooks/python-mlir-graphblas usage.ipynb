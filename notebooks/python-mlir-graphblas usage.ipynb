{
 "cells": [
  {
   "cell_type": "markdown",
   "id": "64c8fdd4",
   "metadata": {
    "pycharm": {
     "name": "#%% md\n"
    }
   },
   "source": [
    "# python-mlir-graphblas\n",
    "\n",
    "Notebook for trying out the functionality as it is built"
   ]
  },
  {
   "cell_type": "code",
   "execution_count": null,
   "id": "d5ebf17b",
   "metadata": {
    "pycharm": {
     "name": "#%%\n"
    }
   },
   "outputs": [],
   "source": [
    "import mlir_graphblas as mlgb\n",
    "from mlir_graphblas import types, tensor, operators, operations\n",
    "from mlir_graphblas import descriptor as desc"
   ]
  },
  {
   "cell_type": "code",
   "execution_count": null,
   "id": "93e5a274",
   "metadata": {
    "pycharm": {
     "name": "#%%\n"
    }
   },
   "outputs": [],
   "source": [
    "v = tensor.Vector.new(types.FP32, 8)\n",
    "v.build([0, 2, 3, 5], [1, 2, 3, 4])\n",
    "w = tensor.Vector.new(types.FP64, 8)\n",
    "w.build([0, 2, 4, 5, 6], [2, 3, 4, .5, 6])\n",
    "\n",
    "y = tensor.Vector.new(types.FP32, 8)\n",
    "operations.ewise_add(y, operators.BinaryOp.first, v, w)\n",
    "y.extract_tuples()"
   ]
  },
  {
   "cell_type": "code",
   "execution_count": null,
   "id": "9ae4e2ca",
   "metadata": {
    "pycharm": {
     "name": "#%%\n"
    }
   },
   "outputs": [],
   "source": [
    "z = tensor.Vector.new(types.FP32, 8)\n",
    "operations.ewise_mult(z, operators.BinaryOp.oneb, v, w)\n",
    "z.extract_tuples()"
   ]
  },
  {
   "cell_type": "code",
   "execution_count": null,
   "id": "b07d193f",
   "metadata": {
    "pycharm": {
     "name": "#%%\n"
    }
   },
   "outputs": [],
   "source": [
    "b = tensor.Vector.new(types.BOOL, 8)\n",
    "operations.ewise_mult(b, operators.BinaryOp.gt, v, w)\n",
    "b.extract_tuples()"
   ]
  },
  {
   "cell_type": "code",
   "execution_count": null,
   "id": "1d1ad12b",
   "metadata": {},
   "outputs": [],
   "source": []
  },
  {
   "cell_type": "code",
   "execution_count": null,
   "id": "2d021807",
   "metadata": {},
   "outputs": [],
   "source": [
    "x = tensor.Matrix.new(types.FP32, 3, 3)\n",
    "x.build([0, 0, 1, 1, 2], [1, 2, 0, 2, 1], [1, 2, 3, 4, 5], sparsity=[\"dense\", \"compressed\"])\n",
    "y = tensor.Matrix.new(types.FP32, 3, 3)\n",
    "y.build([0, 0, 1, 1, 2], [1, 2, 0, 2, 1], [1, 2, 3, 4, 5], sparsity=[\"compressed\", \"compressed\"])\n",
    "z = tensor.Matrix.new(types.FP32, 3, 3)"
   ]
  },
  {
   "cell_type": "code",
   "execution_count": null,
   "id": "85287864",
   "metadata": {},
   "outputs": [],
   "source": [
    "operations.ewise_add(z, operators.BinaryOp.plus, y, x)"
   ]
  },
  {
   "cell_type": "code",
   "execution_count": null,
   "id": "84a01e47",
   "metadata": {},
   "outputs": [],
   "source": [
    "z"
   ]
  },
  {
   "cell_type": "code",
   "execution_count": null,
   "id": "164f8b33",
   "metadata": {},
   "outputs": [],
   "source": [
    "z.extract_tuples()"
   ]
  },
  {
   "cell_type": "markdown",
   "id": "ccb89f50",
   "metadata": {
    "pycharm": {
     "name": "#%% md\n"
    }
   },
   "source": [
    "#### apply mask"
   ]
  },
  {
   "cell_type": "code",
   "execution_count": null,
   "id": "c5d1f19c",
   "metadata": {
    "pycharm": {
     "name": "#%%\n"
    }
   },
   "outputs": [],
   "source": [
    "from mlir_graphblas import implementations as impl\n",
    "\n",
    "mask = tensor.Vector.new(types.FP64, 8)\n",
    "mask.build([0, 3, 6], [-1., 2.2, 6.28318])\n",
    "\n",
    "bb = impl.select_by_mask(v, mask, desc.SC)\n",
    "bb.extract_tuples()"
   ]
  },
  {
   "cell_type": "markdown",
   "id": "8467693c",
   "metadata": {
    "pycharm": {
     "name": "#%% md\n"
    }
   },
   "source": [
    "#### eWiseAdd Matrix variants"
   ]
  },
  {
   "cell_type": "code",
   "execution_count": null,
   "id": "db75293d",
   "metadata": {
    "pycharm": {
     "name": "#%%\n"
    }
   },
   "outputs": [],
   "source": [
    "import numpy as np\n",
    "T = types.INT64\n",
    "\n",
    "def view_sizes(x):\n",
    "    print(mlgb.utils.c_lib.sparseDimSize(x._obj[0], 0), mlgb.utils.c_lib.sparseDimSize(x._obj[0], 1))\n",
    "    print(mlgb.utils.c_lib.sparseLvlSize(x._obj[0], 0), mlgb.utils.c_lib.sparseLvlSize(x._obj[0], 1))\n",
    "\n",
    "m1 = tensor.Matrix.new(T, 7, 5)\n",
    "m1.build(np.array([0, 0, 0, 0, 0]),\n",
    "         np.array([0, 1, 2, 3, 4]),\n",
    "         np.array([1, 2, 3, 4, 5], dtype=T.np_type), colwise=False)\n",
    "view_sizes(m1)\n",
    "m1"
   ]
  },
  {
   "cell_type": "code",
   "execution_count": null,
   "id": "4a4a68d4",
   "metadata": {
    "pycharm": {
     "name": "#%%\n"
    }
   },
   "outputs": [],
   "source": [
    "m2 = tensor.Matrix.new(T, 7, 5)\n",
    "m2.build([0, 1, 2, 3, 4, 5, 6],\n",
    "         [3, 3, 3, 3, 3, 3, 3],\n",
    "         [10, 20, 30, 40, 50, 60, 70], colwise=False)\n",
    "view_sizes(m2)\n",
    "m2"
   ]
  },
  {
   "cell_type": "code",
   "execution_count": null,
   "id": "e73673c3",
   "metadata": {
    "pycharm": {
     "name": "#%%\n"
    }
   },
   "outputs": [],
   "source": [
    "m_out = tensor.Matrix.new(T, 7, 5)\n",
    "operations.ewise_add(m_out, operators.BinaryOp.plus, m1, m2)\n",
    "view_sizes(m_out)\n",
    "print(m_out)\n",
    "m_out.extract_tuples()"
   ]
  },
  {
   "cell_type": "code",
   "execution_count": null,
   "id": "6c6020f6",
   "metadata": {
    "pycharm": {
     "name": "#%%\n"
    }
   },
   "outputs": [],
   "source": [
    "m_out = tensor.Matrix.new(T, 5, 7)\n",
    "operations.ewise_add(m_out, operators.BinaryOp.plus, m1, m2, desc=desc.T0T1)\n",
    "view_sizes(m_out)\n",
    "print(m_out)\n",
    "m_out.extract_tuples()"
   ]
  },
  {
   "cell_type": "markdown",
   "id": "1fb860b4",
   "metadata": {
    "pycharm": {
     "name": "#%% md\n"
    }
   },
   "source": [
    "## Things I learned\n",
    "\n",
    "1. indexing_map and dimOrdering are very different\n",
    "2. indexing_map is used to transpose an object (doesn't affect iteration order)\n",
    "3. dimOrdering affect iteration order\n",
    "4. Secondary matrix can have any iteration order\n",
    "5. Iteration order of first matrix must match output matrix\n",
    "6. That matching can be transposed and inverted dims together (i.e. transposing a rowwise input works for a non-transposed colwise output); we need to fix the ordering declared (see above)"
   ]
  },
  {
   "cell_type": "code",
   "execution_count": null,
   "id": "0aec1043",
   "metadata": {
    "pycharm": {
     "name": "#%%\n"
    }
   },
   "outputs": [],
   "source": []
  },
  {
   "cell_type": "markdown",
   "id": "9549df1a",
   "metadata": {
    "pycharm": {
     "name": "#%% md\n"
    }
   },
   "source": [
    "#### Mini Mystery\n",
    "\n",
    "Crash happens if sizes get too large. Not sure why."
   ]
  },
  {
   "cell_type": "raw",
   "id": "e2a0270c",
   "metadata": {
    "pycharm": {
     "name": "#%%\n"
    }
   },
   "source": [
    "import numpy as np\n",
    "\n",
    "N = 87149  # Larger than ~ 87200 will crash the system\n",
    "\n",
    "m1 = tensor.Matrix.new(T, N, N)\n",
    "m1.build(np.arange(N, dtype=np.uint64),\n",
    "         np.arange(N, dtype=np.uint64),#[::-1],\n",
    "         np.arange(N, dtype=T.np_type))\n",
    "\n",
    "m_out = tensor.Matrix.new(T, N, N)\n",
    "operations.ewise_add(m_out, operators.BinaryOp.plus, m1, m1)\n",
    "m_out.nvals()"
   ]
  },
  {
   "cell_type": "markdown",
   "id": "ed231c50",
   "metadata": {
    "pycharm": {
     "name": "#%% md\n"
    }
   },
   "source": [
    "#### mxm"
   ]
  },
  {
   "cell_type": "code",
   "execution_count": null,
   "id": "567be959",
   "metadata": {
    "pycharm": {
     "name": "#%%\n"
    }
   },
   "outputs": [],
   "source": [
    "import mlir_graphblas as mlgb\n",
    "from mlir_graphblas import types, tensor, operators, operations\n",
    "from mlir_graphblas import descriptor as desc"
   ]
  },
  {
   "cell_type": "code",
   "execution_count": null,
   "id": "c33275e1",
   "metadata": {
    "pycharm": {
     "name": "#%%\n"
    }
   },
   "outputs": [],
   "source": [
    "import numpy as np\n",
    "\n",
    "r1 = np.array([[11., 10., 0., -4.],\n",
    "               [0., 0., 0., 0.],\n",
    "               [0., 0., 0., 0.]])\n",
    "r2 = np.array([[4.1, 0., 2.3],\n",
    "               [10., 0., 0.],\n",
    "               [0., 0., 0.],\n",
    "               [0., -100., 0.]])\n",
    "r1 @ r2"
   ]
  },
  {
   "cell_type": "code",
   "execution_count": null,
   "id": "185b4f86",
   "metadata": {
    "pycharm": {
     "name": "#%%\n"
    }
   },
   "outputs": [],
   "source": [
    "m1 = tensor.Matrix.new(types.FP64, 3, 4)\n",
    "m2 = tensor.Matrix.new(types.FP64, 4, 3)\n",
    "\n",
    "m1.build([0, 0, 0], [0, 1, 3], [11., 10., -4.], colwise=False, sparsity=[\"compressed\", \"compressed\"])\n",
    "m2.build([0, 0, 1, 3], [0, 2, 0, 1], [4.1, 2.3, 10.0, -100.0], colwise=False, sparsity=[\"dense\", \"compressed\"])\n",
    "\n",
    "m_out = tensor.Matrix.new(types.FP64, 3, 3)\n",
    "\n",
    "operations.mxm(m_out, operators.Semiring.plus_times, m1, m2)\n",
    "print(m_out)\n",
    "m_out.extract_tuples()"
   ]
  },
  {
   "cell_type": "code",
   "execution_count": null,
   "id": "69413388",
   "metadata": {
    "pycharm": {
     "name": "#%%\n"
    }
   },
   "outputs": [],
   "source": [
    "r2 @ r1"
   ]
  },
  {
   "cell_type": "code",
   "execution_count": null,
   "id": "78bb8131",
   "metadata": {
    "pycharm": {
     "name": "#%%\n"
    }
   },
   "outputs": [],
   "source": [
    "m2_out = tensor.Matrix.new(types.FP64, 4, 4)\n",
    "operations.mxm(m2_out, operators.Semiring.plus_times, m1, m2, desc=desc.T0T1)\n",
    "print(m2_out)\n",
    "m2_out.extract_tuples()"
   ]
  },
  {
   "cell_type": "markdown",
   "id": "aaa6fbf3",
   "metadata": {
    "pycharm": {
     "name": "#%% md\n"
    }
   },
   "source": [
    "#### mxv"
   ]
  },
  {
   "cell_type": "code",
   "execution_count": null,
   "id": "0aa82417",
   "metadata": {
    "pycharm": {
     "name": "#%%\n"
    }
   },
   "outputs": [],
   "source": [
    "m = tensor.Matrix.new(types.FP64, 3, 4)\n",
    "v = tensor.Vector.new(types.FP64, 4)\n",
    "\n",
    "m.build([0, 0, 0], [0, 1, 3], [11., 10., -4.], colwise=False)\n",
    "v.build([0, 3], [4.1, 2.3])\n",
    "\n",
    "m_out = tensor.Vector.new(types.FP64, 3)\n",
    "\n",
    "operations.mxv(m_out, operators.Semiring.plus_times, m, v)\n",
    "print(m_out)\n",
    "m_out.extract_tuples()"
   ]
  },
  {
   "cell_type": "code",
   "execution_count": null,
   "id": "c8b29465",
   "metadata": {
    "pycharm": {
     "name": "#%%\n"
    }
   },
   "outputs": [],
   "source": [
    "import numpy as np\n",
    "v = np.array([[4.1, 0., 0., 2.3]])\n",
    "m = np.array([[11., 10., 0., -4], [0, 0, 0, 0], [0, 0, 0, 0]])\n",
    "m @ v.T"
   ]
  },
  {
   "cell_type": "markdown",
   "id": "431f5944",
   "metadata": {
    "pycharm": {
     "name": "#%% md\n"
    }
   },
   "source": [
    "#### vxm"
   ]
  },
  {
   "cell_type": "code",
   "execution_count": null,
   "id": "cf564516",
   "metadata": {
    "pycharm": {
     "name": "#%%\n"
    }
   },
   "outputs": [],
   "source": [
    "m = tensor.Matrix.new(types.FP64, 3, 4)\n",
    "v = tensor.Vector.new(types.FP64, 3)\n",
    "\n",
    "m.build([0, 0, 0], [0, 1, 3], [11., 10., -4.], colwise=False)\n",
    "v.build([0, 2], [4.1, 2.3])\n",
    "\n",
    "m_out = tensor.Vector.new(types.FP64, 4)\n",
    "\n",
    "operations.vxm(m_out, operators.Semiring.plus_times, v, m)\n",
    "print(m_out.size())\n",
    "m_out.extract_tuples()"
   ]
  },
  {
   "cell_type": "code",
   "execution_count": null,
   "id": "748da022",
   "metadata": {
    "pycharm": {
     "name": "#%%\n"
    }
   },
   "outputs": [],
   "source": [
    "import numpy as np\n",
    "v = np.array([[4.1, 0., 2.3]])\n",
    "m = np.array([[11., 10., 0., -4], [0, 0, 0, 0], [0, 0, 0, 0]])\n",
    "v @ m"
   ]
  },
  {
   "cell_type": "markdown",
   "id": "6250f626",
   "metadata": {
    "pycharm": {
     "name": "#%% md\n"
    }
   },
   "source": [
    "#### select"
   ]
  },
  {
   "cell_type": "code",
   "execution_count": null,
   "id": "a4cacea4",
   "metadata": {
    "pycharm": {
     "name": "#%%\n"
    }
   },
   "outputs": [],
   "source": [
    "import mlir_graphblas as mlgb\n",
    "from mlir_graphblas import types, tensor, operators, operations\n",
    "from mlir_graphblas import descriptor as desc"
   ]
  },
  {
   "cell_type": "code",
   "execution_count": null,
   "id": "b0a15987",
   "metadata": {
    "pycharm": {
     "name": "#%%\n"
    }
   },
   "outputs": [],
   "source": [
    "m3 = tensor.Matrix.new(types.FP64, 4, 3)\n",
    "m3.build([0, 0, 1, 3], [0, 2, 0, 1], [4.1, 2.3, 10.0, -100.0])\n",
    "\n",
    "m_out = tensor.Matrix.new(types.FP64, 4, 3)"
   ]
  },
  {
   "cell_type": "code",
   "execution_count": null,
   "id": "6f6710dd",
   "metadata": {
    "pycharm": {
     "name": "#%%\n"
    }
   },
   "outputs": [],
   "source": [
    "operations.select(m_out, operators.SelectOp.tril, m3, 0)\n",
    "m_out.extract_tuples()"
   ]
  },
  {
   "cell_type": "code",
   "execution_count": null,
   "id": "d4cd656e",
   "metadata": {
    "pycharm": {
     "name": "#%%\n"
    }
   },
   "outputs": [],
   "source": [
    "operations.select(m_out, operators.SelectOp.valuegt, m3, 3.3)\n",
    "m_out.extract_tuples()"
   ]
  },
  {
   "cell_type": "code",
   "execution_count": null,
   "id": "b0c08806",
   "metadata": {
    "pycharm": {
     "name": "#%%\n"
    }
   },
   "outputs": [],
   "source": [
    "m4 = tensor.Matrix.new(types.FP32, 16, 3)\n",
    "m4.build([2], [2], [0.1])\n",
    "m_out = tensor.Matrix.new(types.FP32, 16, 3)\n",
    "\n",
    "operations.select(m_out, operators.SelectOp.valueeq, m4, 0.0)\n",
    "m_out.extract_tuples()"
   ]
  },
  {
   "cell_type": "markdown",
   "id": "905102ac",
   "metadata": {
    "pycharm": {
     "name": "#%% md\n"
    }
   },
   "source": [
    "#### apply"
   ]
  },
  {
   "cell_type": "code",
   "execution_count": null,
   "id": "e52dfefa",
   "metadata": {
    "pycharm": {
     "name": "#%%\n"
    }
   },
   "outputs": [],
   "source": [
    "# In-place\n",
    "m3 = tensor.Matrix.new(types.FP64, 4, 3)\n",
    "m3.build([0, 0, 1, 3], [0, 2, 0, 1], [4.1, 2.3, 10.0, -100.0])\n",
    "operations.apply(m3, operators.BinaryOp.div, m3, right=2)\n",
    "m3.extract_tuples()"
   ]
  },
  {
   "cell_type": "code",
   "execution_count": null,
   "id": "c415043c",
   "metadata": {
    "pycharm": {
     "name": "#%%\n"
    }
   },
   "outputs": [],
   "source": [
    "# Apply Binary second (val / 2)\n",
    "m3 = tensor.Matrix.new(types.FP64, 4, 3)\n",
    "m3.build([0, 0, 1, 3], [0, 2, 0, 1], [4.1, 2.3, 10.0, -100.0])\n",
    "m_out = tensor.Matrix.new(types.FP64, 4, 3)\n",
    "operations.apply(m_out, operators.BinaryOp.div, m3, right=2)\n",
    "m_out.extract_tuples()"
   ]
  },
  {
   "cell_type": "code",
   "execution_count": null,
   "id": "d5ab3ebc",
   "metadata": {
    "pycharm": {
     "name": "#%%\n"
    }
   },
   "outputs": [],
   "source": [
    "# Apply Binary first (2 / val)\n",
    "m3 = tensor.Matrix.new(types.FP64, 4, 3)\n",
    "m3.build([0, 0, 1, 3], [0, 2, 0, 1], [4.1, 2.3, 10.0, -100.0])\n",
    "m_out = tensor.Matrix.new(types.FP64, 4, 3)\n",
    "operations.apply(m_out, operators.BinaryOp.div, m3, left=2)\n",
    "m_out.extract_tuples()"
   ]
  },
  {
   "cell_type": "code",
   "execution_count": null,
   "id": "c3c5830f",
   "metadata": {
    "pycharm": {
     "name": "#%%\n"
    }
   },
   "outputs": [],
   "source": [
    "# Apply Unary\n",
    "m3 = tensor.Matrix.new(types.FP64, 4, 3)\n",
    "m3.build([0, 0, 1, 3], [0, 2, 0, 1], [4.1, 2.3, 10.0, -100.0])\n",
    "m_out = tensor.Matrix.new(types.FP64, 4, 3)\n",
    "operations.apply(m_out, operators.UnaryOp.ainv, m3)\n",
    "m_out.extract_tuples()"
   ]
  },
  {
   "cell_type": "code",
   "execution_count": null,
   "id": "f1711984",
   "metadata": {
    "pycharm": {
     "name": "#%%\n"
    }
   },
   "outputs": [],
   "source": [
    "# Apply IndexUnaryOp (col_index + 10)\n",
    "m3 = tensor.Matrix.new(types.FP64, 4, 3)\n",
    "m3.build([0, 0, 1, 3], [0, 2, 0, 1], [4.1, 2.3, 10.0, -100.0])\n",
    "m_out = tensor.Matrix.new(types.INT64, 4, 3)\n",
    "operations.apply(m_out, operators.IndexUnaryOp.colindex, m3, thunk=10)\n",
    "m_out.extract_tuples()"
   ]
  },
  {
   "cell_type": "markdown",
   "id": "7c459dcb",
   "metadata": {
    "pycharm": {
     "name": "#%% md\n"
    }
   },
   "source": [
    "#### reduce to vector"
   ]
  },
  {
   "cell_type": "code",
   "execution_count": null,
   "id": "f212b9de",
   "metadata": {
    "pycharm": {
     "name": "#%%\n"
    }
   },
   "outputs": [],
   "source": [
    "import mlir_graphblas as mlgb\n",
    "from mlir_graphblas import types, tensor, operators, operations\n",
    "from mlir_graphblas import descriptor as desc"
   ]
  },
  {
   "cell_type": "code",
   "execution_count": null,
   "id": "b8e32323",
   "metadata": {
    "pycharm": {
     "name": "#%%\n"
    }
   },
   "outputs": [],
   "source": [
    "# Rowwise\n",
    "m = tensor.Matrix.new(types.FP64, 4, 3)\n",
    "m.build([0, 0, 1, 3], [0, 2, 0, 2], [4.1, 2.3, 10.0, -100.0])\n",
    "v_out = tensor.Vector.new(types.FP64, 4)\n",
    "operations.reduce_to_vector(v_out, operators.Monoid.plus, m)\n",
    "v_out.extract_tuples()"
   ]
  },
  {
   "cell_type": "code",
   "execution_count": null,
   "id": "f6885097",
   "metadata": {
    "pycharm": {
     "name": "#%%\n"
    }
   },
   "outputs": [],
   "source": [
    "# Colwise\n",
    "v_out = tensor.Vector.new(types.FP64, 3)\n",
    "operations.reduce_to_vector(v_out, operators.Monoid.times, m, desc=desc.T0)\n",
    "v_out.extract_tuples()"
   ]
  },
  {
   "cell_type": "code",
   "execution_count": null,
   "id": "6f64bddc",
   "metadata": {
    "pycharm": {
     "name": "#%%\n"
    }
   },
   "outputs": [],
   "source": [
    "# Rowwise with mask\n",
    "mask = tensor.Vector.new(types.BOOL, 4)\n",
    "mask.build([0, 1], [1, 1])\n",
    "v_out = tensor.Vector.new(types.FP64, 4)\n",
    "operations.reduce_to_vector(v_out, operators.Monoid.plus, m, mask=mask, desc=desc.S)\n",
    "v_out.extract_tuples()"
   ]
  },
  {
   "cell_type": "code",
   "execution_count": null,
   "id": "bccf0c45",
   "metadata": {
    "pycharm": {
     "name": "#%%\n"
    }
   },
   "outputs": [],
   "source": [
    "# Colwise with complemented mask\n",
    "mask = tensor.Vector.new(types.BOOL, 3)\n",
    "mask.build([0, 1], [1, 1])\n",
    "v_out = tensor.Vector.new(types.FP64, 3)\n",
    "operations.reduce_to_vector(v_out, operators.Monoid.times, m, mask=mask, desc=desc.SCT0)\n",
    "v_out.extract_tuples()"
   ]
  },
  {
   "cell_type": "markdown",
   "id": "267d8b7d",
   "metadata": {
    "pycharm": {
     "name": "#%% md\n"
    }
   },
   "source": [
    "#### reduce to scalar"
   ]
  },
  {
   "cell_type": "code",
   "execution_count": null,
   "id": "fba2791c",
   "metadata": {
    "pycharm": {
     "name": "#%%\n"
    }
   },
   "outputs": [],
   "source": [
    "# Matrix\n",
    "m = tensor.Matrix.new(types.FP64, 4, 3)\n",
    "m.build([0, 0, 1, 3], [0, 2, 0, 2], [4.1, 2.3, 10.0, -100.0])\n",
    "s_out = tensor.Scalar.new(types.FP64)\n",
    "operations.reduce_to_scalar(s_out, operators.Monoid.plus, m)\n",
    "s_out"
   ]
  },
  {
   "cell_type": "code",
   "execution_count": null,
   "id": "e25656ea",
   "metadata": {
    "pycharm": {
     "name": "#%%\n"
    }
   },
   "outputs": [],
   "source": [
    "# Vector\n",
    "v = tensor.Vector.new(types.INT16, 120)\n",
    "v.build([13, 54, 97, 101], [17, 13, 14, 15])\n",
    "s_out = tensor.Scalar.new(types.INT16)\n",
    "operations.reduce_to_scalar(s_out, operators.Monoid.min, v)\n",
    "s_out"
   ]
  },
  {
   "cell_type": "markdown",
   "id": "95e711b5",
   "metadata": {
    "pycharm": {
     "name": "#%%\n"
    }
   },
   "source": [
    "#### extract"
   ]
  },
  {
   "cell_type": "code",
   "execution_count": null,
   "id": "df10513a",
   "metadata": {
    "pycharm": {
     "name": "#%%\n"
    }
   },
   "outputs": [],
   "source": [
    "# Vector\n",
    "v = tensor.Vector.new(types.INT16, 10)\n",
    "v.build([1, 3, 4, 7], [17, 13, 14, 15])\n",
    "z = tensor.Vector.new(types.INT16, 4)\n",
    "operations.extract(z, v, [1, 2, 4, 5])\n",
    "z.extract_tuples()"
   ]
  },
  {
   "cell_type": "code",
   "execution_count": null,
   "id": "3ce19868",
   "metadata": {
    "pycharm": {
     "name": "#%%\n"
    }
   },
   "outputs": [],
   "source": [
    "# Vector extract GrB_ALL\n",
    "z = tensor.Vector.new(types.INT16, 10)\n",
    "operations.extract(z, v)\n",
    "z.extract_tuples()"
   ]
  },
  {
   "cell_type": "code",
   "execution_count": null,
   "id": "153b244a",
   "metadata": {
    "pycharm": {
     "name": "#%%\n"
    }
   },
   "outputs": [],
   "source": [
    "# Matrix\n",
    "m = tensor.Matrix.new(types.FP32, 3, 4)\n",
    "m.build([0, 0, 0, 1, 1, 1, 2, 2, 2], [0, 1, 3, 0, 2, 3, 0, 1, 2], [1, 2, 3, 4, 5, 6, 7, 8, 9])\n",
    "z = tensor.Matrix.new(types.FP32, 2, 2)\n",
    "operations.extract(z, m, [1, 2], [0, 3])\n",
    "z.extract_tuples()"
   ]
  },
  {
   "cell_type": "code",
   "execution_count": null,
   "id": "3d6bc53f",
   "metadata": {
    "pycharm": {
     "name": "#%%\n"
    }
   },
   "outputs": [],
   "source": [
    "# Matrix extract column\n",
    "z = tensor.Vector.new(types.FP32, 2)\n",
    "operations.extract(z, m, [1, 2], 3)\n",
    "z.extract_tuples()"
   ]
  },
  {
   "cell_type": "code",
   "execution_count": null,
   "id": "3c3ab16a",
   "metadata": {
    "pycharm": {
     "name": "#%%\n"
    }
   },
   "outputs": [],
   "source": [
    "# Matrix extract row\n",
    "z = tensor.Vector.new(types.FP32, 2)\n",
    "operations.extract(z, m, 1, [0, 3])\n",
    "z.extract_tuples()"
   ]
  },
  {
   "cell_type": "code",
   "execution_count": null,
   "id": "2bba4b06",
   "metadata": {
    "pycharm": {
     "name": "#%%\n"
    }
   },
   "outputs": [],
   "source": [
    "# Matrix extract GrB_ALL\n",
    "z = tensor.Matrix.new(types.FP32, 3, 4)\n",
    "operations.extract(z, m)\n",
    "z.extract_tuples()"
   ]
  },
  {
   "cell_type": "code",
   "execution_count": null,
   "id": "842ce1b5",
   "metadata": {},
   "outputs": [],
   "source": []
  },
  {
   "cell_type": "code",
   "execution_count": null,
   "id": "20bc9e0c",
   "metadata": {},
   "outputs": [],
   "source": []
  }
 ],
 "metadata": {
  "kernelspec": {
   "display_name": "Python 3 (ipykernel)",
   "language": "python",
   "name": "python3"
  },
  "language_info": {
   "codemirror_mode": {
    "name": "ipython",
    "version": 3
   },
   "file_extension": ".py",
   "mimetype": "text/x-python",
   "name": "python",
   "nbconvert_exporter": "python",
   "pygments_lexer": "ipython3",
   "version": "3.10.10"
  }
 },
 "nbformat": 4,
 "nbformat_minor": 5
}
