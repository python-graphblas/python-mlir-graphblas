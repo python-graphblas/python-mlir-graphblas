{
 "cells": [
  {
   "cell_type": "code",
   "execution_count": null,
   "id": "4ff988e6",
   "metadata": {
    "pycharm": {
     "name": "#%%\n"
    }
   },
   "outputs": [],
   "source": [
    "import ctypes\n",
    "import numbers\n",
    "import math\n",
    "import mlir\n",
    "import numpy as np\n",
    "from mlir import ir\n",
    "from mlir import passmanager\n",
    "from mlir import execution_engine\n",
    "from mlir import runtime\n",
    "from mlir import dialects\n",
    "\n",
    "from mlir.dialects import arith\n",
    "from mlir.dialects import bufferization\n",
    "from mlir.dialects import func\n",
    "from mlir.dialects import linalg\n",
    "from mlir.dialects import sparse_tensor\n",
    "from mlir.dialects import tensor\n",
    "from mlir.dialects import scf\n",
    "from mlir.dialects import memref\n",
    "\n",
    "from mlir.dialects.sparse_tensor import DimLevelType"
   ]
  },
  {
   "cell_type": "code",
   "execution_count": null,
   "id": "791b70ba",
   "metadata": {
    "pycharm": {
     "name": "#%%\n"
    }
   },
   "outputs": [],
   "source": [
    "from ctypes.util import find_library\n",
    "SHARED_LIB = find_library(\"mlir_c_runner_utils\")\n",
    "c_lib = ctypes.CDLL(SHARED_LIB)\n",
    "\n",
    "_support_types = [(np.int8, c_lib.convertToMLIRSparseTensorI8,\n",
    "                  c_lib.convertFromMLIRSparseTensorI8),\n",
    "                 (np.int16, c_lib.convertToMLIRSparseTensorI16,\n",
    "                  c_lib.convertFromMLIRSparseTensorI16),\n",
    "                 (np.int32, c_lib.convertToMLIRSparseTensorI32,\n",
    "                  c_lib.convertFromMLIRSparseTensorI32),\n",
    "                 (np.int64, c_lib.convertToMLIRSparseTensorI64,\n",
    "                  c_lib.convertFromMLIRSparseTensorI64),\n",
    "                 (np.float16, c_lib.convertToMLIRSparseTensorF16,\n",
    "                  c_lib.convertFromMLIRSparseTensorF16),\n",
    "                 (np.float32, c_lib.convertToMLIRSparseTensorF32,\n",
    "                  c_lib.convertFromMLIRSparseTensorF32),\n",
    "                 (np.float64, c_lib.convertToMLIRSparseTensorF64,\n",
    "                  c_lib.convertFromMLIRSparseTensorF64),\n",
    "                 (np.complex64, c_lib.convertToMLIRSparseTensorC32,\n",
    "                  c_lib.convertFromMLIRSparseTensorC32),\n",
    "                 (np.complex128, c_lib.convertToMLIRSparseTensorC64,\n",
    "                  c_lib.convertFromMLIRSparseTensorC64)]\n",
    "\n",
    "types_to_funcs = {}\n",
    "for typ, to_, from_ in _support_types:\n",
    "    to_.restype = ctypes.c_void_p\n",
    "    from_.restype = ctypes.c_void_p\n",
    "    types_to_funcs[typ] = (to_, from_)"
   ]
  },
  {
   "cell_type": "code",
   "execution_count": null,
   "id": "e0b05ffd",
   "metadata": {
    "pycharm": {
     "name": "#%%\n"
    }
   },
   "outputs": [],
   "source": [
    "# LLVMPTR = ctypes.POINTER(ctypes.c_int8)\n",
    "LLVMPTR = ctypes.POINTER(ctypes.c_void_p)\n",
    "\n",
    "def to_sparse_tensor(indices, values, shape, sparsity=None, perm=None):\n",
    "    rank = len(shape)\n",
    "    np_indices = np.array(indices, dtype=np.uint64)\n",
    "    assert isinstance(values, np.ndarray)\n",
    "    np_shape = np.array(shape, dtype=np.uint64)\n",
    "    if sparsity is None:\n",
    "        if rank == 2:\n",
    "            sparsity = [DimLevelType.dense, DimLevelType.compressed]\n",
    "        elif rank == 1:\n",
    "            sparsity = [DimLevelType.compressed]\n",
    "        else:\n",
    "            sparsity = []\n",
    "    np_sparse = np.array(sparsity, dtype=np.uint8)\n",
    "    if perm is None:\n",
    "        np_perm = np.arange(rank, dtype=np.uint64)\n",
    "    else:\n",
    "        np_perm = np.array(perm, dtype=np.uint64)\n",
    "    el_type = values.dtype\n",
    "    rank = ctypes.c_ulonglong(rank)\n",
    "    nse = ctypes.c_ulonglong(len(values))\n",
    "    shape = np_shape.ctypes.data_as(ctypes.POINTER(ctypes.c_ulonglong))\n",
    "    values = values.ctypes.data_as(ctypes.POINTER(runtime.as_ctype(el_type)))\n",
    "    indices = np_indices.ctypes.data_as(ctypes.POINTER(ctypes.c_ulonglong))\n",
    "    perm = np_perm.ctypes.data_as(ctypes.POINTER(ctypes.c_ulonglong))\n",
    "    sparse = np_sparse.ctypes.data_as(ctypes.POINTER(ctypes.c_uint8))\n",
    "    convert_to = types_to_funcs[el_type.type][0]\n",
    "    ptr = convert_to(rank, nse, shape, values, indices, perm, sparse)\n",
    "    return ctypes.pointer(ctypes.cast(ptr, LLVMPTR))"
   ]
  },
  {
   "cell_type": "code",
   "execution_count": null,
   "id": "f1c5e1db",
   "metadata": {
    "pycharm": {
     "name": "#%%\n"
    }
   },
   "outputs": [],
   "source": [
    "def from_sparse_tensor(tensor_ptr, dtype):\n",
    "    convert_from = types_to_funcs[dtype][1]\n",
    "    rank = ctypes.c_ulonglong(0)\n",
    "    nse = ctypes.c_ulonglong(0)\n",
    "    shape = ctypes.POINTER(ctypes.c_ulonglong)()\n",
    "    values = ctypes.POINTER(np.ctypeslib.as_ctypes_type(np.dtype(dtype)))()\n",
    "    indices = ctypes.POINTER(ctypes.c_ulonglong)()\n",
    "    convert_from(tensor_ptr, ctypes.byref(rank), ctypes.byref(nse),\n",
    "                 ctypes.byref(shape), ctypes.byref(values), ctypes.byref(indices))\n",
    "    shape = np.ctypeslib.as_array(shape, shape=[rank.value])\n",
    "    values = np.ctypeslib.as_array(values, shape=[nse.value])\n",
    "    indices = np.ctypeslib.as_array(indices, shape=[nse.value, rank.value])\n",
    "    return indices, values, shape, rank.value, nse.value"
   ]
  },
  {
   "cell_type": "code",
   "execution_count": null,
   "id": "dc09d63f",
   "metadata": {
    "pycharm": {
     "name": "#%%\n"
    }
   },
   "outputs": [],
   "source": [
    "x = to_sparse_tensor([[0, 0], [0, 2], [0, 4], [1, 1], [2, 3], [3, 0], [3, 1]], np.array([1., 3., 6., 2., 4., 3., 4.]),\n",
    "                     shape=[4, 5], perm=[0, 1])"
   ]
  },
  {
   "cell_type": "code",
   "execution_count": null,
   "id": "b81668b1",
   "metadata": {
    "pycharm": {
     "name": "#%%\n"
    }
   },
   "outputs": [],
   "source": [
    "from_sparse_tensor(x[0], np.float64)"
   ]
  },
  {
   "cell_type": "code",
   "execution_count": null,
   "id": "83940aaa",
   "metadata": {
    "pycharm": {
     "name": "#%%\n"
    }
   },
   "outputs": [],
   "source": [
    "y = to_sparse_tensor([[0, 0], [0, 2], [0, 4], [1, 1], [2, 3], [3, 0], [3, 1]], np.array([1., 3., 6., 2., 4., 3., 4.]),\n",
    "                     shape=[4, 5], perm=[1, 0])"
   ]
  },
  {
   "cell_type": "code",
   "execution_count": null,
   "id": "9b5b2560",
   "metadata": {
    "pycharm": {
     "name": "#%%\n"
    }
   },
   "outputs": [],
   "source": [
    "from_sparse_tensor(y[0], np.float64)"
   ]
  },
  {
   "cell_type": "markdown",
   "id": "19a2f69d",
   "metadata": {
    "pycharm": {
     "name": "#%% md\n"
    }
   },
   "source": [
    "### Add hardcoded ints"
   ]
  },
  {
   "cell_type": "code",
   "execution_count": null,
   "id": "afeb3e7c",
   "metadata": {
    "pycharm": {
     "name": "#%%\n"
    }
   },
   "outputs": [],
   "source": [
    "with ir.Context(), ir.Location.unknown():\n",
    "    module = ir.Module.create()\n",
    "    with ir.InsertionPoint(module.body):\n",
    "        i32 = ir.IntegerType.get_signless(32)\n",
    "        @func.FuncOp.from_py_func()\n",
    "        def main():\n",
    "            one = arith.ConstantOp(i32, 1)\n",
    "            two = arith.ConstantOp(i32, 2)\n",
    "            total = arith.AddIOp(one, two)\n",
    "            return total\n",
    "        main.func_op.attributes[\"llvm.emit_c_interface\"] = ir.UnitAttr.get()\n",
    "    # It is okay to manually specify passes\n",
    "    pm = passmanager.PassManager.parse(\"builtin.module(convert-arith-to-llvm,convert-func-to-llvm)\")\n",
    "print(module)\n",
    "pm = pm.run(module)\n",
    "print(module)\n",
    "engine = execution_engine.ExecutionEngine(module, opt_level=2, shared_libs=[SHARED_LIB])\n",
    "arg_pointers = [\n",
    "    ctypes.pointer(ctypes.c_long(0)),\n",
    "]\n",
    "engine.invoke(\"main\", *arg_pointers)\n",
    "print('-'*30)\n",
    "print(f\"result = {arg_pointers[0].contents.value}\")"
   ]
  },
  {
   "cell_type": "markdown",
   "id": "de794158",
   "metadata": {
    "pycharm": {
     "name": "#%% md\n"
    }
   },
   "source": [
    "**Notes:**\n",
    "\n",
    "Values (like `total`) have:\n",
    "\n",
    "- total.attributes\n",
    "- total.regions\n",
    "- total.operands\n",
    "- total.results"
   ]
  },
  {
   "cell_type": "markdown",
   "id": "4abbac3e",
   "metadata": {
    "pycharm": {
     "name": "#%% md\n"
    }
   },
   "source": [
    "### Multiply input floats"
   ]
  },
  {
   "cell_type": "code",
   "execution_count": null,
   "id": "2772978f",
   "metadata": {
    "pycharm": {
     "name": "#%%\n"
    }
   },
   "outputs": [],
   "source": [
    "with ir.Context(), ir.Location.unknown():\n",
    "    module = ir.Module.create()\n",
    "    with ir.InsertionPoint(module.body):\n",
    "        f64 = ir.F64Type.get()\n",
    "        @func.FuncOp.from_py_func(f64, f64)\n",
    "        def main(x, y):\n",
    "            product = arith.MulFOp(x, y)\n",
    "            return product\n",
    "        main.func_op.attributes[\"llvm.emit_c_interface\"] = ir.UnitAttr.get()\n",
    "    pm = passmanager.PassManager.parse(\"builtin.module(sparse-compiler)\")  # pre-built pass pipeline\n",
    "print(module)\n",
    "pm = pm.run(module)\n",
    "engine = execution_engine.ExecutionEngine(module, opt_level=2, shared_libs=[SHARED_LIB])\n",
    "\n",
    "def mul2(x, y):\n",
    "    arg_pointers = [\n",
    "        ctypes.byref(ctypes.c_double(x)),\n",
    "        ctypes.byref(ctypes.c_double(y)),\n",
    "        ctypes.pointer(ctypes.c_double(0)),  # result usually goes at the end\n",
    "    ]\n",
    "    engine.invoke(\"main\", *arg_pointers)\n",
    "    return arg_pointers[-1].contents.value\n",
    "\n",
    "result = mul2(-1.5, 21.25)\n",
    "print('-'*30)\n",
    "print(f\"{result=}\")"
   ]
  },
  {
   "cell_type": "markdown",
   "id": "29f9569d",
   "metadata": {
    "pycharm": {
     "name": "#%% md\n"
    }
   },
   "source": [
    "### Multiply sparse tensor type by 3"
   ]
  },
  {
   "cell_type": "code",
   "execution_count": null,
   "id": "f96229c5",
   "metadata": {
    "pycharm": {
     "name": "#%%\n"
    }
   },
   "outputs": [],
   "source": [
    "with ir.Context(), ir.Location.unknown():\n",
    "    module = ir.Module.create()\n",
    "    with ir.InsertionPoint(module.body):\n",
    "        f64 = ir.F64Type.get()\n",
    "        index = ir.IndexType.get()\n",
    "        sp_encoding = sparse_tensor.EncodingAttr.get(\n",
    "            [sparse_tensor.DimLevelType.compressed, sparse_tensor.DimLevelType.compressed],\n",
    "            ir.AffineMap.get_permutation([0, 1]),\n",
    "            None,\n",
    "            0,\n",
    "            0\n",
    "        )\n",
    "        dynamic = ir.ShapedType.get_dynamic_size()\n",
    "        rtt = ir.RankedTensorType.get([dynamic, dynamic], f64, sp_encoding)\n",
    "        @func.FuncOp.from_py_func(rtt)\n",
    "        def main(x):\n",
    "            ci3 = arith.ConstantOp(f64, 3.0)\n",
    "            c0 = arith.ConstantOp(index, 0)\n",
    "            c1 = arith.ConstantOp(index, 1)\n",
    "            d0 = tensor.DimOp(x, c0)\n",
    "            d1 = tensor.DimOp(x, c1)\n",
    "            vv = bufferization.AllocTensorOp(rtt, [d0.result, d1.result], None, None, False)\n",
    "            generic_op = linalg.GenericOp(\n",
    "                [rtt],\n",
    "                [x],\n",
    "                [vv],\n",
    "                ir.ArrayAttr.get([ir.AffineMapAttr.get(ir.AffineMap.get_permutation([0, 1])),\n",
    "                                  ir.AffineMapAttr.get(ir.AffineMap.get_permutation([0, 1]))]),\n",
    "                #ir.ArrayAttr.get([ir.StringAttr.get(\"parallel\")]*2),\n",
    "                ir.ArrayAttr.get([ir.Attribute.parse('#linalg.iterator_type<parallel>')]*2),\n",
    "            )\n",
    "            # Construct the linalg.generic body\n",
    "            block = generic_op.regions[0].blocks.append(f64, f64)\n",
    "            with ir.InsertionPoint(block):\n",
    "                a, b = block.arguments\n",
    "                res = arith.MulFOp(a, ci3)\n",
    "                linalg.YieldOp([res])\n",
    "            return generic_op.result\n",
    "        main.func_op.attributes[\"llvm.emit_c_interface\"] = ir.UnitAttr.get()\n",
    "    #pm = passmanager.PassManager.parse(\"sparse-compiler\")\n",
    "    pm = passmanager.PassManager.parse(\"builtin.module(sparse-compiler{reassociate-fp-reductions=1 enable-index-optimizations=1})\")\n",
    "#print(module)\n",
    "pm = pm.run(module)\n",
    "#print('='*50)\n",
    "#print(module)\n",
    "engine3f = execution_engine.ExecutionEngine(module, opt_level=2, shared_libs=[SHARED_LIB])"
   ]
  },
  {
   "cell_type": "code",
   "execution_count": null,
   "id": "54b36cbd",
   "metadata": {
    "pycharm": {
     "name": "#%%\n"
    }
   },
   "outputs": [],
   "source": [
    "mem_in = to_sparse_tensor([[0, 0], [1, 1], [7, 5]], np.array([11., 22., -4.], dtype=np.float64),\n",
    "                          [10, 20], sparsity=[DimLevelType.compressed]*2)\n",
    "\n",
    "out = ctypes.c_char(0)\n",
    "mem_out = ctypes.pointer(ctypes.pointer(out))\n",
    "\n",
    "arg_pointers = [\n",
    "    mem_in,\n",
    "    mem_out,\n",
    "]\n",
    "engine3f.invoke(\"main\", *arg_pointers)"
   ]
  },
  {
   "cell_type": "code",
   "execution_count": null,
   "id": "2fcb834c",
   "metadata": {
    "pycharm": {
     "name": "#%%\n"
    }
   },
   "outputs": [],
   "source": [
    "indices, values, shape, rank, nse = from_sparse_tensor(mem_out[0], np.float64)"
   ]
  },
  {
   "cell_type": "code",
   "execution_count": null,
   "id": "83db56ba",
   "metadata": {
    "pycharm": {
     "name": "#%%\n"
    }
   },
   "outputs": [],
   "source": [
    "print(f\"{indices=}\")\n",
    "print(f\"{values=}\")\n",
    "print(f\"{shape=}\")\n",
    "print(f\"{rank=}\")\n",
    "print(f\"{nse=}\")"
   ]
  },
  {
   "cell_type": "markdown",
   "id": "cbbab217",
   "metadata": {
    "pycharm": {
     "name": "#%% md\n"
    }
   },
   "source": [
    "#### Int32 Version"
   ]
  },
  {
   "cell_type": "code",
   "execution_count": null,
   "id": "0488744c",
   "metadata": {
    "pycharm": {
     "name": "#%%\n"
    }
   },
   "outputs": [],
   "source": [
    "with ir.Context(), ir.Location.unknown():\n",
    "    module = ir.Module.create()\n",
    "    with ir.InsertionPoint(module.body):\n",
    "        i32 = ir.IntegerType.get_signless(32)\n",
    "        index = ir.IndexType.get()\n",
    "        sp_encoding = sparse_tensor.EncodingAttr.get(\n",
    "            [sparse_tensor.DimLevelType.compressed, sparse_tensor.DimLevelType.compressed],\n",
    "            ir.AffineMap.get_permutation([0, 1]),\n",
    "            None,\n",
    "            0,\n",
    "            0\n",
    "        )\n",
    "        dynamic = ir.ShapedType.get_dynamic_size()\n",
    "        rtt = ir.RankedTensorType.get((dynamic, dynamic), i32, sp_encoding)\n",
    "        @func.FuncOp.from_py_func(rtt)\n",
    "        def main(x):\n",
    "            ci3 = arith.ConstantOp(i32, 3)\n",
    "            c0 = arith.ConstantOp(index, 0)\n",
    "            c1 = arith.ConstantOp(index, 1)\n",
    "            d0 = tensor.DimOp(x, c0)\n",
    "            d1 = tensor.DimOp(x, c1)\n",
    "            vv = bufferization.AllocTensorOp(rtt, [d0.result, d1.result], None, None, False)\n",
    "            generic_op = linalg.GenericOp(\n",
    "                [rtt],\n",
    "                [x],\n",
    "                [vv],\n",
    "                ir.ArrayAttr.get([ir.AffineMapAttr.get(ir.AffineMap.get(2, 0, [ir.AffineDimExpr.get(0), ir.AffineDimExpr.get(1)])),\n",
    "                                  ir.AffineMapAttr.get(ir.AffineMap.get_permutation([0, 1]))]),\n",
    "                ir.ArrayAttr.get([ir.Attribute.parse('#linalg.iterator_type<parallel>')]*2),\n",
    "            )\n",
    "            # Construct the linalg.generic body\n",
    "            block = generic_op.regions[0].blocks.append(i32, i32)\n",
    "            with ir.InsertionPoint(block):\n",
    "                a, b = block.arguments\n",
    "                res = arith.MulIOp(a, ci3)\n",
    "                linalg.YieldOp([res])\n",
    "            return generic_op.result\n",
    "        main.func_op.attributes[\"llvm.emit_c_interface\"] = ir.UnitAttr.get()\n",
    "    #pm = passmanager.PassManager.parse(\"sparse-compiler\")\n",
    "    pm = passmanager.PassManager.parse(\"builtin.module(sparse-compiler)\")\n",
    "    print(module)\n",
    "    pm = pm.run(module)\n",
    "    #print(module)\n",
    "    engine = execution_engine.ExecutionEngine(module, opt_level=2, shared_libs=[SHARED_LIB])"
   ]
  },
  {
   "cell_type": "code",
   "execution_count": null,
   "id": "79bf072a",
   "metadata": {
    "pycharm": {
     "name": "#%%\n"
    }
   },
   "outputs": [],
   "source": [
    "mem_in = to_sparse_tensor([[0, 0], [1, 1], [7, 5]], np.array([11, 22, -4], dtype=np.int32),\n",
    "                          [10, 20], sparsity=[DimLevelType.compressed]*2)\n",
    "\n",
    "out = ctypes.c_char(0)\n",
    "mem_out = ctypes.pointer(ctypes.pointer(out))\n",
    "\n",
    "arg_pointers = [\n",
    "    mem_in,\n",
    "    mem_out,\n",
    "]\n",
    "engine.invoke(\"main\", *arg_pointers)"
   ]
  },
  {
   "cell_type": "code",
   "execution_count": null,
   "id": "4d7b45e2",
   "metadata": {
    "pycharm": {
     "name": "#%%\n"
    }
   },
   "outputs": [],
   "source": [
    "indices, values, shape, rank, nse = from_sparse_tensor(mem_out[0], np.int32)"
   ]
  },
  {
   "cell_type": "code",
   "execution_count": null,
   "id": "6b814c3b",
   "metadata": {
    "pycharm": {
     "name": "#%%\n"
    }
   },
   "outputs": [],
   "source": [
    "print(f\"{indices=}\")\n",
    "print(f\"{values=}\")\n",
    "print(f\"{shape=}\")\n",
    "print(f\"{rank=}\")\n",
    "print(f\"{nse=}\")"
   ]
  },
  {
   "cell_type": "markdown",
   "id": "ae74cafb",
   "metadata": {
    "pycharm": {
     "name": "#%% md\n"
    }
   },
   "source": [
    "#### eWiseMult"
   ]
  },
  {
   "cell_type": "code",
   "execution_count": null,
   "id": "c52bcc30",
   "metadata": {
    "pycharm": {
     "name": "#%%\n"
    }
   },
   "outputs": [],
   "source": [
    "with ir.Context(), ir.Location.unknown():\n",
    "    module = ir.Module.create()\n",
    "    with ir.InsertionPoint(module.body):\n",
    "        f64 = ir.F64Type.get()\n",
    "        i1 = ir.IntegerType.get_signless(1)\n",
    "        i8 = ir.IntegerType.get_signless(8)\n",
    "        i64 = ir.IntegerType.get_signless(64)\n",
    "        index = ir.IndexType.get()\n",
    "        sp_encoding = sparse_tensor.EncodingAttr.get(\n",
    "            [sparse_tensor.DimLevelType.compressed, sparse_tensor.DimLevelType.compressed],\n",
    "            ir.AffineMap.get_permutation([0, 1]),\n",
    "            None,\n",
    "            0,\n",
    "            0\n",
    "        )\n",
    "        dynamic = ir.ShapedType.get_dynamic_size()\n",
    "        rtt = ir.RankedTensorType.get([dynamic, dynamic], f64, sp_encoding)\n",
    "        rtt_out = ir.RankedTensorType.get([dynamic, dynamic], i8, sp_encoding)\n",
    "        @func.FuncOp.from_py_func(rtt, rtt)\n",
    "        def main(x, y):\n",
    "            zero = arith.ConstantOp(f64, 0.0)\n",
    "            c0 = arith.ConstantOp(index, 0)\n",
    "            c1 = arith.ConstantOp(index, 1)\n",
    "            d0 = tensor.DimOp(x, c0)\n",
    "            d1 = tensor.DimOp(x, c1)\n",
    "            vv = bufferization.AllocTensorOp(rtt_out, [d0.result, d1.result], None, None, False)\n",
    "            generic_op = linalg.GenericOp(\n",
    "                [rtt_out],\n",
    "                [x, y],\n",
    "                [vv],\n",
    "                ir.ArrayAttr.get([ir.AffineMapAttr.get(ir.AffineMap.get_permutation([0, 1])),\n",
    "                                  ir.AffineMapAttr.get(ir.AffineMap.get_permutation([0, 1])),\n",
    "                                  ir.AffineMapAttr.get(ir.AffineMap.get_permutation([0, 1]))]),\n",
    "                ir.ArrayAttr.get([ir.Attribute.parse('#linalg.iterator_type<parallel>')]*2),\n",
    "            )\n",
    "            # Construct the linalg.generic body\n",
    "            block = generic_op.regions[0].blocks.append(f64, f64, i8)\n",
    "            with ir.InsertionPoint(block):\n",
    "                a, b, o = block.arguments\n",
    "                #res = arith.MulFOp(a, b)\n",
    "                res = sparse_tensor.BinaryOp(i8, a, b)\n",
    "                overlap = res.regions[0].blocks.append(f64, f64)\n",
    "                with ir.InsertionPoint(overlap):\n",
    "                    arg0, arg1 = overlap.arguments\n",
    "                    #ret = arith.AddFOp(arg0, arg1)\n",
    "                    cmp = arith.CmpFOp(ir.IntegerAttr.get(i64, 2), arg0, arg1)\n",
    "                    ret = arith.ExtUIOp(i8, cmp)\n",
    "                    sparse_tensor.YieldOp(result=ret)\n",
    "                left = res.regions[1].blocks.append(f64)\n",
    "                with ir.InsertionPoint(left):\n",
    "                    arg0, = left.arguments\n",
    "                    cmp = arith.CmpFOp(ir.IntegerAttr.get(i64, 6), arg0, zero)\n",
    "                    ret = arith.ExtUIOp(i8, cmp)\n",
    "                    sparse_tensor.YieldOp(result=ret)\n",
    "                right = res.regions[2].blocks.append(f64)\n",
    "                with ir.InsertionPoint(right):\n",
    "                    arg0, = right.arguments\n",
    "                    cmp = arith.CmpFOp(ir.IntegerAttr.get(i64, 6), arg0, zero)\n",
    "                    ret = arith.ExtUIOp(i8, cmp)\n",
    "                    sparse_tensor.YieldOp(result=ret)\n",
    "                linalg.YieldOp([res])\n",
    "            return generic_op.result\n",
    "        main.func_op.attributes[\"llvm.emit_c_interface\"] = ir.UnitAttr.get()\n",
    "    #pm = passmanager.PassManager.parse(\"sparse-compiler\")\n",
    "    pm = passmanager.PassManager.parse(\"builtin.module(sparse-compiler{reassociate-fp-reductions=1 enable-index-optimizations=1})\")\n",
    "print(module)\n",
    "pm = pm.run(module)\n",
    "#print('='*50)\n",
    "#print(module)\n",
    "engine = execution_engine.ExecutionEngine(module, opt_level=2, shared_libs=[SHARED_LIB])"
   ]
  },
  {
   "cell_type": "code",
   "execution_count": null,
   "id": "8804b432",
   "metadata": {
    "pycharm": {
     "name": "#%%\n"
    }
   },
   "outputs": [],
   "source": [
    "mem_a = to_sparse_tensor([[0, 0], [1, 1], [7, 5]], np.array([11., 0., -4.], dtype=np.float64),\n",
    "                         [10, 20], sparsity=[DimLevelType.compressed, DimLevelType.compressed])\n",
    "mem_b = to_sparse_tensor([[0, 0], [1, 2], [7, 5]], np.array([4.1, 2.3, 10.0], dtype=np.float64),\n",
    "                         [10, 20], sparsity=[DimLevelType.compressed, DimLevelType.compressed])\n",
    "\n",
    "out = ctypes.c_char(0)\n",
    "mem_out = ctypes.pointer(ctypes.pointer(out))\n",
    "\n",
    "arg_pointers = [\n",
    "    mem_a,\n",
    "    mem_b,\n",
    "    mem_out,\n",
    "]\n",
    "engine.invoke(\"main\", *arg_pointers)"
   ]
  },
  {
   "cell_type": "code",
   "execution_count": null,
   "id": "0654a60a",
   "metadata": {
    "pycharm": {
     "name": "#%%\n"
    }
   },
   "outputs": [],
   "source": [
    "indices, values, shape, rank, nse = from_sparse_tensor(mem_out[0], np.int8)\n",
    "print(f\"{indices=}\")\n",
    "print(f\"{values=}\")\n",
    "print(f\"{shape=}\")\n",
    "print(f\"{rank=}\")\n",
    "print(f\"{nse=}\")"
   ]
  },
  {
   "cell_type": "code",
   "execution_count": null,
   "id": "18f8308c",
   "metadata": {
    "pycharm": {
     "name": "#%%\n"
    }
   },
   "outputs": [],
   "source": []
  },
  {
   "cell_type": "markdown",
   "id": "86a77b42",
   "metadata": {
    "pycharm": {
     "name": "#%% md\n"
    }
   },
   "source": [
    "#### mxm"
   ]
  },
  {
   "cell_type": "code",
   "execution_count": null,
   "id": "5379ea73",
   "metadata": {
    "pycharm": {
     "name": "#%%\n"
    }
   },
   "outputs": [],
   "source": [
    "with ir.Context(), ir.Location.unknown():\n",
    "    module = ir.Module.create()\n",
    "    with ir.InsertionPoint(module.body):\n",
    "        f64 = ir.F64Type.get()\n",
    "        index = ir.IndexType.get()\n",
    "        sp_encoding = sparse_tensor.EncodingAttr.get(\n",
    "            [sparse_tensor.DimLevelType.compressed, sparse_tensor.DimLevelType.compressed],\n",
    "            ir.AffineMap.get_permutation([0, 1]),\n",
    "            None,\n",
    "            0,\n",
    "            0\n",
    "        )\n",
    "        dynamic = ir.ShapedType.get_dynamic_size()\n",
    "        rtt = ir.RankedTensorType.get([dynamic, dynamic], f64, sp_encoding)\n",
    "        @func.FuncOp.from_py_func(rtt, rtt)\n",
    "        def main(x, y):\n",
    "            cf0 = arith.ConstantOp(f64, 0.0)\n",
    "            c0 = arith.ConstantOp(index, 0)\n",
    "            c1 = arith.ConstantOp(index, 1)\n",
    "            nrows = tensor.DimOp(x, c0)\n",
    "            ncols = tensor.DimOp(y, c1)\n",
    "            vv = bufferization.AllocTensorOp(rtt, [nrows.result, ncols.result], None, None, False)\n",
    "            generic_op = linalg.GenericOp(\n",
    "                [rtt],\n",
    "                [x, y],\n",
    "                [vv],\n",
    "                ir.ArrayAttr.get([\n",
    "                    ir.AffineMapAttr.get(ir.AffineMap.get(3, 0, [ir.AffineDimExpr.get(0), ir.AffineDimExpr.get(2)])),\n",
    "                    ir.AffineMapAttr.get(ir.AffineMap.get(3, 0, [ir.AffineDimExpr.get(2), ir.AffineDimExpr.get(1)])),\n",
    "                    ir.AffineMapAttr.get(ir.AffineMap.get(3, 0, [ir.AffineDimExpr.get(0), ir.AffineDimExpr.get(1)]))\n",
    "                ]),\n",
    "                ir.ArrayAttr.get([\n",
    "                    ir.Attribute.parse('#linalg.iterator_type<parallel>'),\n",
    "                    ir.Attribute.parse('#linalg.iterator_type<parallel>'),\n",
    "                    ir.Attribute.parse('#linalg.iterator_type<reduction>'),\n",
    "                ]),\n",
    "            )\n",
    "            # Construct the linalg.generic body\n",
    "            block = generic_op.regions[0].blocks.append(f64, f64, f64)\n",
    "            with ir.InsertionPoint(block):\n",
    "                a, b, o = block.arguments\n",
    "                #res = arith.MulFOp(a, b)\n",
    "                res = sparse_tensor.BinaryOp(f64, a, b)\n",
    "                overlap = res.regions[0].blocks.append(f64, f64)\n",
    "                with ir.InsertionPoint(overlap):\n",
    "                    arg0, arg1 = overlap.arguments\n",
    "                    ret = arith.MulFOp(arg0, arg1)\n",
    "                    sparse_tensor.YieldOp(result=ret)\n",
    "                res2 = sparse_tensor.ReduceOp(res, o, cf0)\n",
    "                reduce = res2.regions[0].blocks.append(f64, f64)\n",
    "                with ir.InsertionPoint(reduce):\n",
    "                    arg0, arg1 = reduce.arguments\n",
    "                    ret = arith.AddFOp(arg0, arg1)\n",
    "                    sparse_tensor.YieldOp(result=ret)\n",
    "                linalg.YieldOp([res2])\n",
    "            return generic_op.result\n",
    "        main.func_op.attributes[\"llvm.emit_c_interface\"] = ir.UnitAttr.get()\n",
    "    #pm = passmanager.PassManager.parse(\"sparse-compiler\")\n",
    "    pm = passmanager.PassManager.parse(\"builtin.module(sparse-compiler{reassociate-fp-reductions=1 enable-index-optimizations=1})\")\n",
    "print(module)\n",
    "pm = pm.run(module)\n",
    "#print('='*50)\n",
    "#print(module)\n",
    "engine = execution_engine.ExecutionEngine(module, opt_level=2, shared_libs=[SHARED_LIB])"
   ]
  },
  {
   "cell_type": "code",
   "execution_count": null,
   "id": "5b200a7b",
   "metadata": {
    "pycharm": {
     "name": "#%%\n"
    }
   },
   "outputs": [],
   "source": [
    "mem_a = to_sparse_tensor([[0, 0], [0, 1], [0, 3]], np.array([11., 22., -4.], dtype=np.float64),\n",
    "                         [3, 4], sparsity=[DimLevelType.compressed, DimLevelType.compressed])\n",
    "mem_b = to_sparse_tensor([[0, 0], [0, 2], [1, 0]], np.array([4.1, 2.3, 10.0], dtype=np.float64),\n",
    "                         [4, 3], sparsity=[DimLevelType.compressed, DimLevelType.compressed])\n",
    "\n",
    "out = ctypes.c_char(0)\n",
    "mem_out = ctypes.pointer(ctypes.pointer(out))\n",
    "\n",
    "arg_pointers = [\n",
    "    mem_a,\n",
    "    mem_b,\n",
    "    mem_out,\n",
    "]\n",
    "engine.invoke(\"main\", *arg_pointers)"
   ]
  },
  {
   "cell_type": "code",
   "execution_count": null,
   "id": "a7be0077",
   "metadata": {
    "pycharm": {
     "name": "#%%\n"
    }
   },
   "outputs": [],
   "source": [
    "indices, values, shape, rank, nse = from_sparse_tensor(mem_out[0], np.float64)\n",
    "print(f\"{indices=}\")\n",
    "print(f\"{values=}\")\n",
    "print(f\"{shape=}\")\n",
    "print(f\"{rank=}\")\n",
    "print(f\"{nse=}\")"
   ]
  },
  {
   "cell_type": "markdown",
   "id": "bb9cc565",
   "metadata": {
    "pycharm": {
     "name": "#%% md\n"
    }
   },
   "source": [
    "#### select"
   ]
  },
  {
   "cell_type": "code",
   "execution_count": null,
   "id": "d70b95b7",
   "metadata": {
    "pycharm": {
     "name": "#%%\n"
    }
   },
   "outputs": [],
   "source": [
    "with ir.Context(), ir.Location.unknown():\n",
    "    module = ir.Module.create()\n",
    "    with ir.InsertionPoint(module.body):\n",
    "        f64 = ir.F64Type.get()\n",
    "        i1 = ir.IntegerType.get_signless(1)\n",
    "        i64 = ir.IntegerType.get_signless(64)\n",
    "        index = ir.IndexType.get()\n",
    "        sp_encoding = sparse_tensor.EncodingAttr.get(\n",
    "            [sparse_tensor.DimLevelType.compressed, sparse_tensor.DimLevelType.compressed],\n",
    "            ir.AffineMap.get_permutation([0, 1]),\n",
    "            None,\n",
    "            0,\n",
    "            0\n",
    "        )\n",
    "        dynamic = ir.ShapedType.get_dynamic_size()\n",
    "        rtt = ir.RankedTensorType.get([dynamic, dynamic], f64, sp_encoding)\n",
    "        @func.FuncOp.from_py_func(rtt)\n",
    "        def main(x):\n",
    "            cf0 = arith.ConstantOp(f64, 0.0)\n",
    "            c0 = arith.ConstantOp(index, 0)\n",
    "            c1 = arith.ConstantOp(index, 1)\n",
    "            nrows = tensor.DimOp(x, c0)\n",
    "            ncols = tensor.DimOp(x, c1)\n",
    "            vv = bufferization.AllocTensorOp(rtt, [nrows.result, ncols.result], None, None, False)\n",
    "            generic_op = linalg.GenericOp(\n",
    "                [rtt],\n",
    "                [x],\n",
    "                [vv],\n",
    "                ir.ArrayAttr.get([\n",
    "                    ir.AffineMapAttr.get(ir.AffineMap.get_permutation([0, 1])),\n",
    "                    ir.AffineMapAttr.get(ir.AffineMap.get_permutation([0, 1])),\n",
    "                ]),\n",
    "                ir.ArrayAttr.get([\n",
    "                    ir.Attribute.parse('#linalg.iterator_type<parallel>'),\n",
    "                    ir.Attribute.parse('#linalg.iterator_type<parallel>'),\n",
    "                ]),\n",
    "            )\n",
    "            # Construct the linalg.generic body\n",
    "            block = generic_op.regions[0].blocks.append(f64, f64)\n",
    "            with ir.InsertionPoint(block):\n",
    "                a, o = block.arguments\n",
    "                rowidx = linalg.IndexOp(ir.IntegerAttr.get(i64, 0))\n",
    "                colidx = linalg.IndexOp(ir.IntegerAttr.get(i64, 1))\n",
    "                res = sparse_tensor.SelectOp(a)\n",
    "                region = res.regions[0].blocks.append(f64)\n",
    "                with ir.InsertionPoint(region):\n",
    "                    arg0, = region.arguments\n",
    "                    #cmp = arith.CmpFOp(ir.IntegerAttr.get(i64, 2), arg0, cf0)\n",
    "                    cmp = arith.CmpIOp(ir.IntegerAttr.get(i64, 5), colidx, c1)\n",
    "                    sparse_tensor.YieldOp(result=cmp)\n",
    "                linalg.YieldOp([res])\n",
    "            return generic_op.result\n",
    "        main.func_op.attributes[\"llvm.emit_c_interface\"] = ir.UnitAttr.get()\n",
    "    #pm = passmanager.PassManager.parse(\"sparse-compiler\")\n",
    "    pm = passmanager.PassManager.parse(\"builtin.module(sparse-compiler{reassociate-fp-reductions=1 enable-index-optimizations=1})\")\n",
    "print(module)\n",
    "pm = pm.run(module)\n",
    "#print('='*50)\n",
    "#print(module)\n",
    "engine = execution_engine.ExecutionEngine(module, opt_level=2, shared_libs=[SHARED_LIB])"
   ]
  },
  {
   "cell_type": "code",
   "execution_count": null,
   "id": "ae6a9aa7",
   "metadata": {
    "pycharm": {
     "name": "#%%\n"
    }
   },
   "outputs": [],
   "source": [
    "mem_a = to_sparse_tensor([[0, 0], [0, 1], [0, 3]], np.array([11., 22., -4.], dtype=np.float64),\n",
    "                         [3, 4], sparsity=[DimLevelType.compressed, DimLevelType.compressed])\n",
    "\n",
    "out = ctypes.c_char(0)\n",
    "mem_out = ctypes.pointer(ctypes.pointer(out))\n",
    "\n",
    "arg_pointers = [\n",
    "    mem_a,\n",
    "    mem_out,\n",
    "]\n",
    "engine.invoke(\"main\", *arg_pointers)"
   ]
  },
  {
   "cell_type": "code",
   "execution_count": null,
   "id": "fd566744",
   "metadata": {
    "pycharm": {
     "name": "#%%\n"
    }
   },
   "outputs": [],
   "source": [
    "indices, values, shape, rank, nse = from_sparse_tensor(mem_out[0], np.float64)\n",
    "print(f\"{indices=}\")\n",
    "print(f\"{values=}\")\n",
    "print(f\"{shape=}\")\n",
    "print(f\"{rank=}\")\n",
    "print(f\"{nse=}\")"
   ]
  },
  {
   "cell_type": "markdown",
   "id": "2497f999",
   "metadata": {
    "pycharm": {
     "name": "#%% md\n"
    }
   },
   "source": [
    "#### reduce_to_vector"
   ]
  },
  {
   "cell_type": "code",
   "execution_count": null,
   "id": "ba5d269f",
   "metadata": {
    "pycharm": {
     "name": "#%%\n"
    }
   },
   "outputs": [],
   "source": [
    "with ir.Context(), ir.Location.unknown():\n",
    "    module = ir.Module.create()\n",
    "    with ir.InsertionPoint(module.body):\n",
    "        f64 = ir.F64Type.get()\n",
    "        i1 = ir.IntegerType.get_signless(1)\n",
    "        i64 = ir.IntegerType.get_signless(64)\n",
    "        index = ir.IndexType.get()\n",
    "        mat_sp_encoding = sparse_tensor.EncodingAttr.get(\n",
    "            [sparse_tensor.DimLevelType.compressed, sparse_tensor.DimLevelType.compressed],\n",
    "            ir.AffineMap.get_permutation([0, 1]),\n",
    "            None,\n",
    "            0,\n",
    "            0\n",
    "        )\n",
    "        vec_sp_encoding = sparse_tensor.EncodingAttr.get(\n",
    "            [sparse_tensor.DimLevelType.compressed],\n",
    "            ir.AffineMap.get_permutation([0]),\n",
    "            None,\n",
    "            0,\n",
    "            0\n",
    "        )\n",
    "        dynamic = ir.ShapedType.get_dynamic_size()\n",
    "        rtt_in = ir.RankedTensorType.get([dynamic, dynamic], f64, mat_sp_encoding)\n",
    "        rtt_out = ir.RankedTensorType.get([dynamic], f64, vec_sp_encoding)\n",
    "        @func.FuncOp.from_py_func(rtt_in)\n",
    "        def main(x):\n",
    "            cf0 = arith.ConstantOp(f64, 0.0)\n",
    "            cf1 = arith.ConstantOp(f64, 1.0)\n",
    "            c0 = arith.ConstantOp(index, 0)\n",
    "            c1 = arith.ConstantOp(index, 1)\n",
    "            nrows = tensor.DimOp(x, c0)\n",
    "            ncols = tensor.DimOp(x, c1)\n",
    "            vv = bufferization.AllocTensorOp(rtt_out, [ncols.result], None, None, False)\n",
    "            generic_op = linalg.GenericOp(\n",
    "                [rtt_out],\n",
    "                [x],\n",
    "                [vv],\n",
    "                ir.ArrayAttr.get([\n",
    "                    ir.AffineMapAttr.get(ir.AffineMap.get_permutation([0, 1])),\n",
    "                    ir.AffineMapAttr.get(ir.AffineMap.get(2, 0, [ir.AffineDimExpr.get(1)]))\n",
    "                ]),\n",
    "                ir.ArrayAttr.get([\n",
    "                    ir.Attribute.parse('#linalg.iterator_type<reduction>'),\n",
    "                    ir.Attribute.parse('#linalg.iterator_type<parallel>'),\n",
    "                ]),\n",
    "            )\n",
    "            # Construct the linalg.generic body\n",
    "            block = generic_op.regions[0].blocks.append(f64, f64)\n",
    "            with ir.InsertionPoint(block):\n",
    "                a, o = block.arguments\n",
    "                res = sparse_tensor.ReduceOp(o, a, cf1)\n",
    "                region = res.regions[0].blocks.append(f64, f64)\n",
    "                with ir.InsertionPoint(region):\n",
    "                    arg0, arg1 = region.arguments\n",
    "                    red_res = arith.MulFOp(arg0, arg1)\n",
    "                    sparse_tensor.YieldOp(result=red_res)\n",
    "                linalg.YieldOp([res])\n",
    "            return generic_op.result\n",
    "        main.func_op.attributes[\"llvm.emit_c_interface\"] = ir.UnitAttr.get()\n",
    "    #pm = passmanager.PassManager.parse(\"sparse-compiler\")\n",
    "    pm = passmanager.PassManager.parse(\"builtin.module(sparse-compiler{reassociate-fp-reductions=1 enable-index-optimizations=1})\")\n",
    "print(module)\n",
    "pm = pm.run(module)\n",
    "#print('='*50)\n",
    "#print(module)\n",
    "engine = execution_engine.ExecutionEngine(module, opt_level=2, shared_libs=[SHARED_LIB])"
   ]
  },
  {
   "cell_type": "code",
   "execution_count": null,
   "id": "81e8f648",
   "metadata": {
    "pycharm": {
     "name": "#%%\n"
    }
   },
   "outputs": [],
   "source": [
    "mem_a = to_sparse_tensor([[0, 0], [0, 1], [0, 3], [2, 3]], np.array([11., 22., -4., 14.5], dtype=np.float64),\n",
    "                         [3, 4], sparsity=[DimLevelType.compressed, DimLevelType.compressed])\n",
    "\n",
    "out = ctypes.c_char(0)\n",
    "mem_out = ctypes.pointer(ctypes.pointer(out))\n",
    "\n",
    "arg_pointers = [\n",
    "    mem_a,\n",
    "    mem_out,\n",
    "]\n",
    "engine.invoke(\"main\", *arg_pointers)"
   ]
  },
  {
   "cell_type": "code",
   "execution_count": null,
   "id": "2fe80561",
   "metadata": {
    "pycharm": {
     "name": "#%%\n"
    }
   },
   "outputs": [],
   "source": [
    "indices, values, shape, rank, nse = from_sparse_tensor(mem_out[0], np.float64)\n",
    "print(f\"{indices=}\")\n",
    "print(f\"{values=}\")\n",
    "print(f\"{shape=}\")\n",
    "print(f\"{rank=}\")\n",
    "print(f\"{nse=}\")"
   ]
  },
  {
   "cell_type": "markdown",
   "id": "a61eb25d",
   "metadata": {
    "pycharm": {
     "name": "#%% md\n"
    }
   },
   "source": [
    "#### reduce_to_scalar"
   ]
  },
  {
   "cell_type": "code",
   "execution_count": null,
   "id": "c926daee",
   "metadata": {
    "pycharm": {
     "name": "#%%\n"
    }
   },
   "outputs": [],
   "source": [
    "with ir.Context(), ir.Location.unknown():\n",
    "    module = ir.Module.create()\n",
    "    with ir.InsertionPoint(module.body):\n",
    "        f64 = ir.F64Type.get()\n",
    "        i1 = ir.IntegerType.get_signless(1)\n",
    "        i64 = ir.IntegerType.get_signless(64)\n",
    "        index = ir.IndexType.get()\n",
    "        sp_encoding = sparse_tensor.EncodingAttr.get(\n",
    "            [sparse_tensor.DimLevelType.compressed, sparse_tensor.DimLevelType.compressed],\n",
    "            ir.AffineMap.get_permutation([0, 1]),\n",
    "            None,\n",
    "            0,\n",
    "            0\n",
    "        )\n",
    "        dynamic = ir.ShapedType.get_dynamic_size()\n",
    "        rtt_in = ir.RankedTensorType.get([dynamic, dynamic], f64, sp_encoding)\n",
    "        rtt_out = ir.RankedTensorType.get([], f64)\n",
    "        @func.FuncOp.from_py_func(rtt_in)\n",
    "        def main(x):\n",
    "            cf1 = arith.ConstantOp(f64, 1.0)\n",
    "            ss = bufferization.AllocTensorOp(rtt_out, [], None, None, False)\n",
    "            generic_op = linalg.GenericOp(\n",
    "                [rtt_out],\n",
    "                [x],\n",
    "                [ss],\n",
    "                ir.ArrayAttr.get([\n",
    "                    ir.AffineMapAttr.get(ir.AffineMap.get_permutation([0, 1])),\n",
    "                    ir.AffineMapAttr.get(ir.AffineMap.get(2, 0, []))\n",
    "                ]),\n",
    "                ir.ArrayAttr.get([\n",
    "                    ir.Attribute.parse('#linalg.iterator_type<reduction>'),\n",
    "                    ir.Attribute.parse('#linalg.iterator_type<reduction>'),\n",
    "                ]),\n",
    "            )\n",
    "            # Construct the linalg.generic body\n",
    "            block = generic_op.regions[0].blocks.append(f64, f64)\n",
    "            with ir.InsertionPoint(block):\n",
    "                a, o = block.arguments\n",
    "                res = sparse_tensor.ReduceOp(o, a, cf1)\n",
    "                region = res.regions[0].blocks.append(f64, f64)\n",
    "                with ir.InsertionPoint(region):\n",
    "                    arg0, arg1 = region.arguments\n",
    "                    red_res = arith.MulFOp(arg0, arg1)\n",
    "                    sparse_tensor.YieldOp(result=red_res)\n",
    "                linalg.YieldOp([res])\n",
    "            s = tensor.ExtractOp(generic_op, [])\n",
    "            return s.result\n",
    "        main.func_op.attributes[\"llvm.emit_c_interface\"] = ir.UnitAttr.get()\n",
    "    #pm = passmanager.PassManager.parse(\"sparse-compiler\")\n",
    "    pm = passmanager.PassManager.parse(\"builtin.module(sparse-compiler{reassociate-fp-reductions=1 enable-index-optimizations=1})\")\n",
    "print(module)\n",
    "pm = pm.run(module)\n",
    "#print('='*50)\n",
    "#print(module)\n",
    "engine = execution_engine.ExecutionEngine(module, opt_level=2, shared_libs=[SHARED_LIB])"
   ]
  },
  {
   "cell_type": "code",
   "execution_count": null,
   "id": "eaf76352",
   "metadata": {
    "pycharm": {
     "name": "#%%\n"
    }
   },
   "outputs": [],
   "source": [
    "mem_a = to_sparse_tensor([[0, 0], [0, 1], [0, 3], [2, 3]], np.array([11., 22., -4., 14.5], dtype=np.float64),\n",
    "                         [3, 4], sparsity=[DimLevelType.compressed, DimLevelType.compressed])\n",
    "\n",
    "mem_out = ctypes.pointer(ctypes.c_double(0))\n",
    "\n",
    "arg_pointers = [\n",
    "    mem_a,\n",
    "    mem_out,\n",
    "]\n",
    "engine.invoke(\"main\", *arg_pointers)\n",
    "mem_out.contents.value"
   ]
  },
  {
   "cell_type": "markdown",
   "id": "618968d4",
   "metadata": {
    "pycharm": {
     "name": "#%% md\n"
    }
   },
   "source": [
    "# Full Example of generic dispatching\n",
    "\n",
    "### Sum a passed in tensor using linalg.generic"
   ]
  },
  {
   "cell_type": "code",
   "execution_count": null,
   "id": "511188af",
   "metadata": {
    "pycharm": {
     "name": "#%%\n"
    }
   },
   "outputs": [],
   "source": [
    "NP_TYPE_TO_MLIR = {\n",
    "    np.dtype(np.int8).name: lambda: ir.IntegerType.get_signless(8),\n",
    "    np.dtype(np.int16).name: lambda: ir.IntegerType.get_signless(16),\n",
    "    np.dtype(np.int32).name: lambda: ir.IntegerType.get_signless(32),\n",
    "    np.dtype(np.int64).name: lambda: ir.IntegerType.get_signless(64),\n",
    "    np.dtype(np.float32).name: lambda: ir.F32Type.get(),\n",
    "    np.dtype(np.float64).name: lambda: ir.F64Type.get(),\n",
    "}\n",
    "NP_TYPE_TO_CTYPE = {\n",
    "    np.dtype(np.int8).name: ctypes.c_int8,\n",
    "    np.dtype(np.int16).name: ctypes.c_int16,\n",
    "    np.dtype(np.int32).name: ctypes.c_int32,\n",
    "    np.dtype(np.int64).name: ctypes.c_int64,\n",
    "    np.dtype(np.float32).name: ctypes.c_float,\n",
    "    np.dtype(np.float64).name: ctypes.c_double,\n",
    "}\n",
    "\n",
    "memoized = {}\n",
    "\n",
    "def reduce_sum(arr):\n",
    "    key = (len(arr), arr.dtype.name)\n",
    "    if key not in memoized:\n",
    "        memoized[key] = _build_reduce_sum(arr)\n",
    "    engine = memoized[key]\n",
    "    \n",
    "    c_typ = NP_TYPE_TO_CTYPE[arr.dtype.name]\n",
    "    #out = runtime.make_nd_memref_descriptor(1, c_typ)()\n",
    "    \n",
    "    arg_pointers = [\n",
    "        ctypes.pointer(ctypes.pointer(runtime.get_ranked_memref_descriptor(arr))),\n",
    "        ctypes.pointer(c_typ(0)),\n",
    "    ]\n",
    "    #print(arg_pointers[0])\n",
    "    #print(arg_pointers[1])\n",
    "    #vp0 = ctypes.cast(arg_pointers[0], ctypes.c_void_p)\n",
    "    #vp1 = ctypes.cast(arg_pointers[1], ctypes.c_void_p)\n",
    "    #print(vp0)\n",
    "    #print(vp1)\n",
    "    #print(vp1.value - vp0.value)\n",
    "    engine.invoke(\"main\", *arg_pointers)\n",
    "    result = arg_pointers[-1].contents.value\n",
    "    return result\n",
    "\n",
    "def _build_reduce_sum(arr):\n",
    "    with ir.Context(), ir.Location.unknown():\n",
    "        module = ir.Module.create()\n",
    "        with ir.InsertionPoint(module.body):\n",
    "            dtype = NP_TYPE_TO_MLIR[arr.dtype.name]()\n",
    "            type_a = ir.RankedTensorType.get([len(arr)], dtype)\n",
    "            type_out = ir.RankedTensorType.get([], dtype)\n",
    "            @func.FuncOp.from_py_func(type_a)\n",
    "            def main(x):\n",
    "                vv = bufferization.AllocTensorOp(type_out, [], None, None, None)\n",
    "                generic_op = linalg.GenericOp(\n",
    "                    [type_out],\n",
    "                    [x],\n",
    "                    [vv],\n",
    "                    ir.ArrayAttr.get([ir.AffineMapAttr.get(ir.AffineMap.get_permutation([0])),\n",
    "                                      ir.AffineMapAttr.get(ir.AffineMap.get(1, 0, []))]),\n",
    "                    ir.ArrayAttr.get([ir.Attribute.parse('#linalg.iterator_type<reduction>')]),\n",
    "                )\n",
    "                # Construct the linalg.generic body\n",
    "                block = generic_op.regions[0].blocks.append(dtype, dtype)\n",
    "                with ir.InsertionPoint(block):\n",
    "                    a, b = block.arguments\n",
    "                    if issubclass(arr.dtype.type, numbers.Integral):\n",
    "                        res = arith.AddIOp(a, b)\n",
    "                    else:\n",
    "                        res = arith.AddFOp(a, b)\n",
    "                    linalg.YieldOp([res])\n",
    "                final_result = tensor.ExtractOp(generic_op.result, [])\n",
    "                return final_result\n",
    "            main.func_op.attributes[\"llvm.emit_c_interface\"] = ir.UnitAttr.get()\n",
    "        pm = passmanager.PassManager.parse(\"builtin.module(sparse-compiler)\")\n",
    "    #print(module)\n",
    "    pm = pm.run(module)\n",
    "    engine = execution_engine.ExecutionEngine(module, opt_level=2, shared_libs=[SHARED_LIB])\n",
    "    return engine"
   ]
  },
  {
   "cell_type": "code",
   "execution_count": null,
   "id": "e31a3903",
   "metadata": {
    "pycharm": {
     "name": "#%%\n"
    }
   },
   "outputs": [],
   "source": [
    "reduce_sum(np.array([1., 2., 3., 4.], dtype=np.float32))"
   ]
  },
  {
   "cell_type": "code",
   "execution_count": null,
   "id": "e9370842",
   "metadata": {
    "pycharm": {
     "name": "#%%\n"
    }
   },
   "outputs": [],
   "source": [
    "arr = np.arange(50)\n",
    "reduce_sum(arr)"
   ]
  },
  {
   "cell_type": "code",
   "execution_count": null,
   "id": "b755521c",
   "metadata": {
    "pycharm": {
     "name": "#%%\n"
    }
   },
   "outputs": [],
   "source": [
    "# Is the bug actually fixed? Appears to be.\n",
    "for _ in range(5000):\n",
    "    z = reduce_sum(np.arange(50))\n",
    "    if z != 1225:\n",
    "        print(z)\n",
    "        break"
   ]
  },
  {
   "cell_type": "markdown",
   "id": "e0e66d21",
   "metadata": {
    "pycharm": {
     "name": "#%% md\n"
    }
   },
   "source": [
    "### Add 1 to a passed in numpy array"
   ]
  },
  {
   "cell_type": "code",
   "execution_count": null,
   "id": "191c1967",
   "metadata": {
    "pycharm": {
     "name": "#%%\n"
    }
   },
   "outputs": [],
   "source": [
    "with ir.Context(), ir.Location.unknown():\n",
    "    module = ir.Module.create()\n",
    "    with ir.InsertionPoint(module.body):\n",
    "        f32 = ir.F32Type.get()\n",
    "        type_a = ir.RankedTensorType.get([4], f32)\n",
    "        @func.FuncOp.from_py_func(type_a)\n",
    "        def main(arr):\n",
    "            one = arith.ConstantOp(f32, 1.0)\n",
    "            vv = tensor.SplatOp(type_a, one)\n",
    "            generic_op = linalg.GenericOp(\n",
    "                [type_a],\n",
    "                [arr],\n",
    "                [vv],\n",
    "                ir.ArrayAttr.get([ir.AffineMapAttr.get(ir.AffineMap.get_permutation([0])),\n",
    "                                  ir.AffineMapAttr.get(ir.AffineMap.get_permutation([0]))]),\n",
    "                ir.ArrayAttr.get([ir.Attribute.parse('#linalg.iterator_type<parallel>')]),\n",
    "            )\n",
    "            # Construct the linalg.generic body\n",
    "            block = generic_op.regions[0].blocks.append(f32, f32)\n",
    "            with ir.InsertionPoint(block):\n",
    "                a, b = block.arguments\n",
    "                res = arith.AddFOp(a, b)\n",
    "                linalg.YieldOp([res])\n",
    "            return generic_op.result\n",
    "        main.func_op.attributes[\"llvm.emit_c_interface\"] = ir.UnitAttr.get()\n",
    "    pm = passmanager.PassManager.parse(\"builtin.module(sparse-compiler)\")\n",
    "print(module)\n",
    "pm = pm.run(module)\n",
    "#print('-'*50)\n",
    "#print(module)\n",
    "engine = execution_engine.ExecutionEngine(module, opt_level=2, shared_libs=[SHARED_LIB])"
   ]
  },
  {
   "cell_type": "code",
   "execution_count": null,
   "id": "645ced73",
   "metadata": {
    "pycharm": {
     "name": "#%%\n"
    }
   },
   "outputs": [],
   "source": [
    "a = np.array([1., 2., 3., 4.], dtype=np.float32)\n",
    "out = runtime.make_nd_memref_descriptor(1, ctypes.c_float)()\n",
    "\n",
    "arg_pointers = [\n",
    "    ctypes.pointer(ctypes.pointer(out)),  # result goes first for some strange reason?!?\n",
    "    ctypes.pointer(ctypes.pointer(runtime.get_ranked_memref_descriptor(a))),\n",
    "]\n",
    "engine.invoke(\"main\", *arg_pointers)\n",
    "result = runtime.ranked_memref_to_numpy(arg_pointers[0][0])\n",
    "result"
   ]
  },
  {
   "cell_type": "code",
   "execution_count": null,
   "id": "a148614f",
   "metadata": {
    "pycharm": {
     "name": "#%%\n"
    }
   },
   "outputs": [],
   "source": []
  },
  {
   "cell_type": "markdown",
   "id": "ace2daa5",
   "metadata": {
    "pycharm": {
     "name": "#%% md\n"
    }
   },
   "source": [
    "### SCF Example"
   ]
  },
  {
   "cell_type": "code",
   "execution_count": null,
   "id": "b1215556",
   "metadata": {
    "pycharm": {
     "name": "#%%\n"
    }
   },
   "outputs": [],
   "source": [
    "with ir.Context(), ir.Location.unknown():\n",
    "    module = ir.Module.create()\n",
    "    with ir.InsertionPoint(module.body):\n",
    "        i1 = ir.IntegerType.get_signless(1)\n",
    "        i64 = ir.IntegerType.get_signless(64)\n",
    "        f64 = ir.F64Type.get()\n",
    "        @func.FuncOp.from_py_func(f64)\n",
    "        def main(x):\n",
    "            zero = arith.ConstantOp(f64, 0.0)\n",
    "            # TODO: Figure out why this isn't allowed\n",
    "            # cmp = arith.CmpFOp(ir.StringAttr.get(\"ogt\"), x, zero)\n",
    "            cmp = arith.CmpFOp(ir.IntegerAttr.get(i64, 2), x, zero)\n",
    "            if_ = scf.IfOp(cmp.result, [f64], hasElse=True)\n",
    "            with ir.InsertionPoint(if_.then_block):\n",
    "                negX = arith.NegFOp(x)\n",
    "                scf.YieldOp([negX])\n",
    "            with ir.InsertionPoint(if_.else_block):\n",
    "                scf.YieldOp([x])\n",
    "            return if_.result\n",
    "        main.func_op.attributes[\"llvm.emit_c_interface\"] = ir.UnitAttr.get()\n",
    "    pm = passmanager.PassManager.parse(\"builtin.module(sparse-compiler)\")\n",
    "print(module)\n",
    "pm = pm.run(module)\n",
    "engine = execution_engine.ExecutionEngine(module, opt_level=2, shared_libs=[SHARED_LIB])\n",
    "\n",
    "def negabs(x):\n",
    "    arg_pointers = [\n",
    "        ctypes.pointer(ctypes.c_double(x)),\n",
    "        ctypes.pointer(ctypes.c_double(0)),\n",
    "    ]\n",
    "    engine.invoke(\"main\", *arg_pointers)\n",
    "    return arg_pointers[-1].contents.value\n",
    "\n",
    "print('Convert everything to negative')\n",
    "print('-'*30)\n",
    "for n in [2.3, -1.5, 0.0, -5.6, 5.9]:\n",
    "    print(f\"{' ' if n >= 0 else ''}{n} -> {negabs(n)}\")"
   ]
  },
  {
   "cell_type": "code",
   "execution_count": null,
   "id": "bafa8d23",
   "metadata": {
    "pycharm": {
     "name": "#%%\n"
    }
   },
   "outputs": [],
   "source": []
  },
  {
   "cell_type": "markdown",
   "id": "4da66ccb",
   "metadata": {
    "pycharm": {
     "name": "#%% md\n"
    }
   },
   "source": [
    "#### Get Dimensions"
   ]
  },
  {
   "cell_type": "code",
   "execution_count": null,
   "id": "fdaf169d",
   "metadata": {
    "pycharm": {
     "name": "#%%\n"
    }
   },
   "outputs": [],
   "source": [
    "c_lib.sparseDimSize(mem_a[0], 0), c_lib.sparseDimSize(mem_a[0], 1)"
   ]
  }
 ],
 "metadata": {
  "kernelspec": {
   "display_name": "Python 3 (ipykernel)",
   "language": "python",
   "name": "python3"
  },
  "language_info": {
   "codemirror_mode": {
    "name": "ipython",
    "version": 3
   },
   "file_extension": ".py",
   "mimetype": "text/x-python",
   "name": "python",
   "nbconvert_exporter": "python",
   "pygments_lexer": "ipython3",
   "version": "3.10.10"
  }
 },
 "nbformat": 4,
 "nbformat_minor": 5
}
